{
 "cells": [
  {
   "cell_type": "code",
   "execution_count": null,
   "metadata": {},
   "outputs": [],
   "source": [
    "import os\n",
    "from azure.core.credentials import AzureKeyCredential  \n",
    "from azure.search.documents import SearchClient, SearchIndexingBufferedSender  \n",
    "from azure.search.documents.indexes import SearchIndexClient  \n",
    "from azure.search.documents.models import (\n",
    "    QueryAnswerType,\n",
    "    QueryCaptionType, \n",
    "    QueryType,\n",
    "    VectorizedQuery,\n",
    "    VectorQuery,\n",
    "    VectorFilterMode,    \n",
    ")\n",
    "from dotenv import load_dotenv\n",
    "load_dotenv()\n",
    "\n",
    "AZURE_OPENAI_ENDPOINT = os.environ[\"AZURE_OPENAI_ENDPOINT\"]\n",
    "AZURE_OPENAI_DEPLOYMENT_NAME = os.environ[\"AZURE_OPENAI_DEPLOYMENT_NAME\"]\n",
    "AZURE_OPENAI_API_KEY = os.environ[\"AZURE_OPENAI_API_KEY\"]\n",
    "AZURE_OPENAI_EMBEDDINGS_MODEL_NAME = os.environ[\"AZURE_OPENAI_EMBEDDINGS_MODEL_NAME\"]\n",
    "AZURE_OPENAI_API_VERSION = os.environ[\"AZURE_OPENAI_API_VERSION\"]\n",
    "AZURE_AISEARCH_ENDPOINT =  os.environ[\"AZURE_AISEARCH_ENDPOINT\"]\n",
    "AZURE_AISEARCH_INDEX_NAME = os.environ[\"AZURE_AISEARCH_INDEX_NAME\"]\n",
    "AZURE_AISEARCH_API_KEY = os.environ[\"AZURE_AISEARCH_API_KEY\"]\n",
    "CREDENTIAL = AzureKeyCredential(AZURE_AISEARCH_API_KEY)"
   ]
  },
  {
   "cell_type": "code",
   "execution_count": null,
   "metadata": {},
   "outputs": [],
   "source": [
    "async def get_context_azclient(question):\n",
    "    \"\"\"Search documents using Azure Cognitive Search SDK\"\"\"\n",
    "    # Construct the Azure Cognitive Search clien\n",
    "    search_client = SearchClient(\n",
    "        endpoint= AZURE_AISEARCH_ENDPOINT,\n",
    "        index_name = AZURE_AISEARCH_INDEX_NAME,\n",
    "        credential=CREDENTIAL\n",
    "    )\n",
    "\n",
    "    vector_query = VectorizedQuery(vector=generate_embeddings(query), k_nearest_neighbors=3, fields=\"contentVector\")\n",
    "\n",
    "    url = (SEARCH_SERVICE_ENDPOINT + 'indexes/' +\n",
    "               SEARCH_SERVICE_INDEX_NAME1 + '/docs')\n",
    "    # Create a parameter dictionary\n",
    "    params = {\n",
    "        'api-version': SEARCH_SERVICE_API_VERSION,\n",
    "        'search': question,\n",
    "        'select': '*',\n",
    "        # '$top': 3, Extract the top 3 documents from your storage. (If you have a lot of documents, you can increase this value).\n",
    "        '$top': 3,\n",
    "        'queryLanguage': 'en-us',\n",
    "        'queryType': 'semantic',\n",
    "        'semanticConfiguration': SEARCH_SERVICE_SEMANTIC_CONFIG_NAME,\n",
    "        '$count': 'true',\n",
    "        'speller': 'lexicon',\n",
    "        'answers': 'extractive|count-3',\n",
    "        'captions': 'extractive|highlight-false'\n",
    "        }\n",
    "    # Make a GET request to the Azure Cognitive Search service and store the response in a variable\n",
    "    resp = requests.get(url, headers=HEADERS, params=params)\n",
    "    # Return the JSON response containing the search results\n",
    "    return resp.json()"
   ]
  },
  {
   "cell_type": "code",
   "execution_count": null,
   "metadata": {},
   "outputs": [],
   "source": []
  }
 ],
 "metadata": {
  "kernelspec": {
   "display_name": "semantic-kernel-lHv8C67X-py3.9",
   "language": "python",
   "name": "python3"
  },
  "language_info": {
   "codemirror_mode": {
    "name": "ipython",
    "version": 3
   },
   "file_extension": ".py",
   "mimetype": "text/x-python",
   "name": "python",
   "nbconvert_exporter": "python",
   "pygments_lexer": "ipython3",
   "version": "3.9.13"
  }
 },
 "nbformat": 4,
 "nbformat_minor": 2
}
