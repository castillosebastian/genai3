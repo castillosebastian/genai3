{
 "cells": [
  {
   "cell_type": "markdown",
   "id": "99a80181",
   "metadata": {},
   "source": [
    "# Basic-Planner\n",
    "\n",
    "From our own testing, planner works best with more powerful models like `gpt4` but sometimes you might get working plans with cheaper models like `gpt-35-turbo`. We encourage you to implement your own versions of the planner and use different models that fit your user needs.  \n",
    "\n",
    "Read more about planner [here](https://aka.ms/sk/concepts/planner)"
   ]
  },
  {
   "cell_type": "code",
   "execution_count": 1,
   "id": "07eb35d2",
   "metadata": {},
   "outputs": [],
   "source": [
    "#!python -m pip install semantic-kernel==0.4.5.dev0"
   ]
  },
  {
   "cell_type": "code",
   "execution_count": 1,
   "id": "b2086366",
   "metadata": {},
   "outputs": [],
   "source": [
    "import os\n",
    "endpoint = os.environ[\"AZURE_OPENAI_ENDPOINT\"]\n",
    "deployment = os.environ[\"AZURE_OPENAI_DEPLOYMENT_NAME\"]\n",
    "api_key = os.environ[\"AZURE_OPENAI_API_KEY\"]\n",
    "embeddings = os.environ[\"AZURE_OPENAI_EMBEDDINGS_MODEL_NAME\"]\n",
    "azure_ai_search_api_key = os.environ[\"AZURE_AISEARCH_API_KEY\"]\n",
    "azure_ai_search_url = os.environ[\"AZURE_AISEARCH_ENDPOINT\"]\n",
    "#BING_API_KEY = os.environ[\"BING_API_KEY\"]"
   ]
  },
  {
   "cell_type": "code",
   "execution_count": 2,
   "id": "11e59885",
   "metadata": {},
   "outputs": [
    {
     "data": {
      "text/plain": [
       "<semantic_kernel.kernel.Kernel at 0x7f2b901c7c70>"
      ]
     },
     "execution_count": 2,
     "metadata": {},
     "output_type": "execute_result"
    }
   ],
   "source": [
    "import semantic_kernel as sk\n",
    "from semantic_kernel.connectors.ai.open_ai import (\n",
    "    OpenAIChatCompletion,\n",
    "    AzureChatCompletion,\n",
    ")\n",
    "\n",
    "kernel = sk.Kernel()\n",
    "\n",
    "   \n",
    "kernel.add_chat_service(\n",
    "        \"chat_completion\",\n",
    "        AzureChatCompletion(deployment_name=deployment, endpoint=endpoint, api_key=api_key),\n",
    ")"
   ]
  },
  {
   "cell_type": "markdown",
   "id": "4ff28070",
   "metadata": {},
   "source": [
    "## It all begins with an ask"
   ]
  },
  {
   "cell_type": "code",
   "execution_count": 4,
   "id": "93bc6103",
   "metadata": {},
   "outputs": [],
   "source": [
    "ask = \"\"\"\n",
    "Tomorrow is Valentine's day. I need to come up with a few date ideas. She speaks French so write it in French.\n",
    "Convert the text to uppercase\"\"\""
   ]
  },
  {
   "cell_type": "markdown",
   "id": "a5d86739",
   "metadata": {},
   "source": [
    "### Providing skills to the planner\n",
    "The planner needs to know what skills are available to it. Here we'll give it access to the `SummarizeSkill` and `WriterSkill` we have defined on disk. This will include many semantic functions, of which the planner will intelligently choose a subset. \n",
    "\n",
    "You can also include native functions as well. Here we'll add the TextSkill."
   ]
  },
  {
   "cell_type": "code",
   "execution_count": 5,
   "id": "ca0e7604",
   "metadata": {},
   "outputs": [],
   "source": [
    "from semantic_kernel.core_skills.text_skill import TextSkill\n",
    "\n",
    "skills_directory = \"../../semantic-kernel/samples/skills/\"\n",
    "summarize_skill = kernel.import_semantic_skill_from_directory(skills_directory, \"SummarizeSkill\")\n",
    "writer_skill = kernel.import_semantic_skill_from_directory(skills_directory, \"WriterSkill\")\n",
    "text_skill = kernel.import_skill(TextSkill(), \"TextSkill\")"
   ]
  },
  {
   "cell_type": "markdown",
   "id": "deff5675",
   "metadata": {},
   "source": [
    "Define your ASK. What do you want the Kernel to do?"
   ]
  },
  {
   "cell_type": "markdown",
   "id": "eee6fe7b",
   "metadata": {},
   "source": [
    "# Basic Planner"
   ]
  },
  {
   "cell_type": "markdown",
   "id": "590a22f2",
   "metadata": {},
   "source": [
    " Let's start by taking a look at a basic planner. The `BasicPlanner` produces a JSON-based plan that aims to solve the provided ask sequentially and evaluated in order."
   ]
  },
  {
   "cell_type": "code",
   "execution_count": 6,
   "id": "20d35ed0",
   "metadata": {},
   "outputs": [],
   "source": [
    "from semantic_kernel.planning.basic_planner import BasicPlanner\n",
    "\n",
    "planner = BasicPlanner()"
   ]
  },
  {
   "cell_type": "code",
   "execution_count": 7,
   "id": "d5697c09",
   "metadata": {},
   "outputs": [],
   "source": [
    "basic_plan = await planner.create_plan_async(ask, kernel)"
   ]
  },
  {
   "cell_type": "code",
   "execution_count": 8,
   "id": "b425ba1e",
   "metadata": {},
   "outputs": [
    {
     "name": "stdout",
     "output_type": "stream",
     "text": [
      "{\n",
      "    \"input\": \"Valentine's day date ideas\",\n",
      "    \"subtasks\": [\n",
      "        {\"function\": \"WriterSkill.Brainstorm\"},\n",
      "        {\"function\": \"WriterSkill.EmailGen\"},\n",
      "        {\"function\": \"WriterSkill.Translate\", \"args\": {\"language\": \"French\"}},\n",
      "        {\"function\": \"TextSkill.uppercase\"}\n",
      "    ]\n",
      "}\n"
     ]
    }
   ],
   "source": [
    "print(basic_plan.generated_plan)"
   ]
  },
  {
   "cell_type": "markdown",
   "id": "0f3a48f8",
   "metadata": {},
   "source": [
    "You can see that the Planner took my ask and converted it into an JSON-based plan detailing how the AI would go about solving this task, making use of the skills that the Kernel has available to it.\n",
    "\n",
    "As you can see in the above plan, the AI has determined which functions to call in order to fulfill the user ask. The output of each step of the plan becomes the input to the next function."
   ]
  },
  {
   "cell_type": "markdown",
   "id": "cd4df0c2",
   "metadata": {},
   "source": [
    "Let's also define an inline skill and have it be available to the Planner. Be sure to give it a function name and skill name."
   ]
  },
  {
   "cell_type": "code",
   "execution_count": 9,
   "id": "54422ba6",
   "metadata": {},
   "outputs": [],
   "source": [
    "sk_prompt = \"\"\"\n",
    "{{$input}}\n",
    "\n",
    "Rewrite the above in the style of Shakespeare.\n",
    "\"\"\"\n",
    "shakespeareFunction = kernel.create_semantic_function(\n",
    "    prompt_template=sk_prompt,\n",
    "    function_name=\"shakespeare\",\n",
    "    skill_name=\"ShakespeareSkill\",\n",
    "    max_tokens=2000,\n",
    "    temperature=0.8,\n",
    ")"
   ]
  },
  {
   "cell_type": "markdown",
   "id": "5057cf9b",
   "metadata": {},
   "source": [
    "Let's update our ask using this new skill"
   ]
  },
  {
   "cell_type": "code",
   "execution_count": 10,
   "id": "a3161dcf",
   "metadata": {},
   "outputs": [],
   "source": [
    "ask = \"\"\"\n",
    "Tomorrow is Valentine's day. I need to come up with a few date ideas.\n",
    "She likes Shakespeare so write using his style. She speaks French so write it in French.\n",
    "Convert the text to uppercase.\"\"\"\n",
    "\n",
    "new_plan = await planner.create_plan_async(ask, kernel)"
   ]
  },
  {
   "cell_type": "code",
   "execution_count": 11,
   "id": "997462e8",
   "metadata": {},
   "outputs": [
    {
     "name": "stdout",
     "output_type": "stream",
     "text": [
      "{\n",
      "    \"input\": \"Valentine's Day Date Ideas\",\n",
      "    \"subtasks\": [\n",
      "        {\"function\": \"WriterSkill.Brainstorm\"},\n",
      "        {\"function\": \"ShakespeareSkill.shakespeare\"},\n",
      "        {\"function\": \"WriterSkill.Translate\", \"args\": {\"language\": \"French\"}},\n",
      "        {\"function\": \"TextSkill.uppercase\"}\n",
      "    ]\n",
      "}\n"
     ]
    }
   ],
   "source": [
    "print(new_plan.generated_plan)"
   ]
  },
  {
   "cell_type": "markdown",
   "id": "b67a052e",
   "metadata": {},
   "source": [
    "### Executing the plan"
   ]
  },
  {
   "cell_type": "markdown",
   "id": "3b839c90",
   "metadata": {},
   "source": [
    "Now that we have a plan, let's try to execute it! The Planner has a function called `execute_plan`."
   ]
  },
  {
   "cell_type": "code",
   "execution_count": 12,
   "id": "9384831a",
   "metadata": {},
   "outputs": [],
   "source": [
    "results = await planner.execute_plan_async(new_plan, kernel)"
   ]
  },
  {
   "cell_type": "code",
   "execution_count": 13,
   "id": "9192b186",
   "metadata": {},
   "outputs": [
    {
     "name": "stdout",
     "output_type": "stream",
     "text": [
      "1. ASSUREZ-VOUS DE PARTICIPER À UN FESTIN ROMANTIQUE AUX CHANDELLES DANS UNE TAVERNE CHIC.\n",
      "2. DANS LES PRAIRIES VERDOYANTES, ÉTALEZ UNE COUVERTURE ET DÉGUSTEZ DES BOUCHÉES EN FORME DE CŒUR ET DES DOUCEURS SUCRÉES.\n",
      "3. PARTICIPEZ À UNE LEÇON DE CUISINE, OÙ NOUS CRÉERONS ENSEMBLE UN REPAS SPÉCIAL DANS NOTRE HUMBLE DEMEURE.\n",
      "4. COMPLOTER SECRÈTEMENT UNE ESCAPADE D'UN WEEK-END DANS UN CHALET CONFORTABLE AU MILIEU DES MONTAGNES MAJESTUEUSES.\n",
      "5. LANCEZ-VOUS DANS UN MARATHON DE NOS CONTES D'AMOUR CHÉRIS, AVEC DES GRAINS DE MAÏS ET DES ÉTREINTES CHALEUREUSES SUR LE CANAPÉ.\n",
      "6. GRIMPEZ UN CHEMIN PITTORESQUE JUSQU'À UN SOMMET, OÙ NOUS NOUS REPOSERONS ET DÎNERONS AU MILIEU D'UNE VUE À COUPER LE SOUFFLE.\n",
      "7. PARTICIPEZ À UNE NUIT JOYEUSE ET ANIMÉE DE JEUX, QU'ILS SOIENT SUR DES PLANCHES OU DES ÉCRANS ÉLECTRONIQUES.\n",
      "8. PARCOUREZ LES VIGNOBLES ET DÉLECTEZ-VOUS DE LA DÉGUSTATION DE VINS, AVANT DE PARTAGER UNE BOUTEILLE DE NOTRE MILLÉSIME PRÉFÉRÉ.\n",
      "9. PARTICIPEZ À UNE LEÇON DE DANSE, OÙ NOUS APPRENDRONS UNE ROUTINE ROMANTIQUE ET CHORÉGRAPHIÉE.\n",
      "10. CRÉEZ UNE EXPÉRIENCE DE SPA DIY PRÈS DE NOTRE FOYER, AVEC DES MASSAGES DOUX, DES SOINS DU VISAGE ET UN BAIN APAISANT.\n"
     ]
    }
   ],
   "source": [
    "print(results)"
   ]
  },
  {
   "cell_type": "markdown",
   "id": "e8a9b6b7",
   "metadata": {},
   "source": [
    "# The Plan Object Model"
   ]
  },
  {
   "cell_type": "markdown",
   "id": "e50f8859",
   "metadata": {},
   "source": [
    "To build more advanced planners, we need to introduce a proper Plan object that can contain all the necessary state and information needed for high quality plans.\n",
    "\n",
    "To see what that object model is, look at (https://github.com/microsoft/semantic-kernel/blob/main/python/semantic_kernel/planning/plan.py)"
   ]
  },
  {
   "cell_type": "markdown",
   "id": "0a0cb2a2",
   "metadata": {},
   "source": [
    "# Sequential Planner"
   ]
  },
  {
   "cell_type": "markdown",
   "id": "a1c66d83",
   "metadata": {},
   "source": [
    "The sequential planner is an XML-based step-by-step planner. You can see the prompt used for it here (https://github.com/microsoft/semantic-kernel/blob/main/python/semantic_kernel/planning/sequential_planner/Skills/SequentialPlanning/skprompt.txt)"
   ]
  },
  {
   "cell_type": "code",
   "execution_count": 14,
   "id": "e2e90624",
   "metadata": {},
   "outputs": [],
   "source": [
    "from semantic_kernel.planning import SequentialPlanner\n",
    "\n",
    "planner = SequentialPlanner(kernel)"
   ]
  },
  {
   "cell_type": "code",
   "execution_count": 15,
   "id": "0d537981",
   "metadata": {},
   "outputs": [],
   "source": [
    "sequential_plan = await planner.create_plan_async(goal=ask)"
   ]
  },
  {
   "cell_type": "markdown",
   "id": "ee2f462b",
   "metadata": {},
   "source": [
    "To see the steps that the Sequential Planner will take, we can iterate over them and print their descriptions"
   ]
  },
  {
   "cell_type": "code",
   "execution_count": 16,
   "id": "e7007418",
   "metadata": {},
   "outputs": [
    {
     "name": "stdout",
     "output_type": "stream",
     "text": [
      "Given a goal or topic description generate a list of ideas : {'variables': {'input': ''}}\n",
      "Generic function, unknown purpose : {'variables': {'input': ''}}\n",
      "Translate the input into a language of your choice : {'variables': {'input': ''}}\n",
      "Convert a string to uppercase. : {'variables': {'input': ''}}\n"
     ]
    }
   ],
   "source": [
    "for step in sequential_plan._steps:\n",
    "    print(step.description, \":\", step._state.__dict__)"
   ]
  },
  {
   "cell_type": "markdown",
   "id": "4db5f844",
   "metadata": {},
   "source": [
    "Let's ask the sequential planner to execute the plan."
   ]
  },
  {
   "cell_type": "code",
   "execution_count": 17,
   "id": "88411884",
   "metadata": {},
   "outputs": [],
   "source": [
    "result = await sequential_plan.invoke_async()"
   ]
  },
  {
   "cell_type": "code",
   "execution_count": 18,
   "id": "36d27aa0",
   "metadata": {},
   "outputs": [
    {
     "name": "stdout",
     "output_type": "stream",
     "text": [
      "1. UN RASSEMBLEMENT JOYEUX SOUS LA CANOPÉE VERDOYANTE,\n",
      "   OÙ L'ÉTREINTE DE LA NATURE ET LE RIRE SE COMBINENT.\n",
      "2. DANS UNE UNION TENDRE, NOUS CONJURERONS UN FESTIN,\n",
      "   NOS MAINS ENTRELACÉES, L'ART CULINAIRE DÉCHAÎNÉ.\n",
      "3. À TRAVERS CETTE FORÊT LOINTAINE, NOUS MARCHERONS,\n",
      "   À CÔTÉ DES RUISSEAUX BABILLANTS, OÙ RÈGNE LA SÉRÉNITÉ.\n",
      "4. VERS UNE DEMEURE DES BEAUX-ARTS, NOUS NOUS AVENTURERONS,\n",
      "   TÉMOIGNANT DE CHEFS-D'ŒUVRE QUI ÉMEUVENT L'ÂME.\n",
      "5. UNE NUIT DE GAIETÉ ET DE PLAISANTERIE, SUR UNE SCÈNE COMIQUE,\n",
      "   OÙ LE RIRE RÉSONNERA, ALORS QUE NOUS TOURNONS LA PAGE DE LA VIE.\n",
      "6. UNE ESCAPADE PITTORESQUE, NOUS ERRERONS SUR LES ROUTES DE CAMPAGNE,\n",
      "   DÉCOUVRANT DES TRÉSORS CACHÉS, NOS CŒURS SE SENTIRONT CHEZ EUX.\n",
      "7. LAISSONS-NOUS EMBARQUER DANS UNE AVENTURE CULINAIRE INÉDITE,\n",
      "   GOÛTANT DES SAVEURS EXOTIQUES, DES SECRETS ENCORE À DÉVOILER.\n",
      "8. UNE DÉGUSTATION, TELLE LE NECTAR DES DIEUX, NOUS SAVOURERONS,\n",
      "   APPRÉCIANT CHAQUE GORGÉE, ALORS QU'ELLE NOUS ÉVEILLE.\n",
      "9. DANS UNE CHAMBRE D'OMBRES, NOS ÉCRANS BRILLERONT,\n",
      "   ALORS QUE DES CONTES ARGENTÉS DE ROMANCE ET D'ESPRIT SE RÉPANDENT.\n",
      "10. AVEC DES PIEDS AGILES, NOUS EMBRASSERONS LA DANSE,\n",
      "    VALSANT À TRAVERS LE TEMPS, DANS UNE HARMONIEUSE ÉTENDUE.\n"
     ]
    }
   ],
   "source": [
    "print(result)"
   ]
  },
  {
   "cell_type": "markdown",
   "id": "d6487c75",
   "metadata": {},
   "source": [
    "# Action Planner"
   ]
  },
  {
   "cell_type": "markdown",
   "id": "b045e26b",
   "metadata": {},
   "source": [
    "The action planner takes in a list of functions and the goal, and outputs a **single** function to use that is appropriate to meet that goal."
   ]
  },
  {
   "cell_type": "code",
   "execution_count": 19,
   "id": "5bfc0b9f",
   "metadata": {},
   "outputs": [],
   "source": [
    "from semantic_kernel.planning import ActionPlanner\n",
    "\n",
    "planner = ActionPlanner(kernel)"
   ]
  },
  {
   "cell_type": "markdown",
   "id": "53b1f296",
   "metadata": {},
   "source": [
    "Let's add more skills to the kernel"
   ]
  },
  {
   "cell_type": "code",
   "execution_count": 20,
   "id": "cc12642a",
   "metadata": {},
   "outputs": [
    {
     "data": {
      "text/plain": [
       "{'lowercase': SKFunction(),\n",
       " 'trim': SKFunction(),\n",
       " 'trim_end': SKFunction(),\n",
       " 'trim_start': SKFunction(),\n",
       " 'uppercase': SKFunction()}"
      ]
     },
     "execution_count": 20,
     "metadata": {},
     "output_type": "execute_result"
    }
   ],
   "source": [
    "from semantic_kernel.core_skills import FileIOSkill, MathSkill, TextSkill, TimeSkill\n",
    "\n",
    "kernel.import_skill(MathSkill(), \"math\")\n",
    "kernel.import_skill(FileIOSkill(), \"fileIO\")\n",
    "kernel.import_skill(TimeSkill(), \"time\")\n",
    "kernel.import_skill(TextSkill(), \"text\")"
   ]
  },
  {
   "cell_type": "code",
   "execution_count": 21,
   "id": "b938dc0e",
   "metadata": {},
   "outputs": [],
   "source": [
    "ask = \"What is the sum of 110 and 990?\""
   ]
  },
  {
   "cell_type": "code",
   "execution_count": 22,
   "id": "3aafd268",
   "metadata": {},
   "outputs": [],
   "source": [
    "plan = await planner.create_plan_async(goal=ask)"
   ]
  },
  {
   "cell_type": "code",
   "execution_count": 23,
   "id": "42589835",
   "metadata": {},
   "outputs": [],
   "source": [
    "result = await plan.invoke_async()"
   ]
  },
  {
   "cell_type": "code",
   "execution_count": 24,
   "id": "dc75e7a9",
   "metadata": {},
   "outputs": [
    {
     "name": "stdout",
     "output_type": "stream",
     "text": [
      "1100\n"
     ]
    }
   ],
   "source": [
    "print(result)"
   ]
  },
  {
   "cell_type": "markdown",
   "id": "789b651a",
   "metadata": {},
   "source": [
    "# Stepwise Planner"
   ]
  },
  {
   "cell_type": "markdown",
   "id": "8a4bbcc3",
   "metadata": {},
   "source": [
    "Stepwise Planner is based off the paper from MRKL (Modular Reasoning, Knowledge and Language) and is similar to other papers like ReACT (Reasoning and Acting in Language Models). At the core, the stepwise planner allows for the AI to form \"thoughts\" and \"observations\" and execute actions based off those to achieve a user's goal. This continues until all required functions are complete and a final output is generated.\n",
    "\n",
    "See a video walkthrough of Stepwise Planner [here.](https://youtu.be/DG_Ge1v0c4Q?si=T1CHaAm1vV0mWRHu)"
   ]
  },
  {
   "cell_type": "code",
   "execution_count": 25,
   "id": "32839327",
   "metadata": {},
   "outputs": [],
   "source": [
    "from semantic_kernel.planning import StepwisePlanner\n",
    "from semantic_kernel.planning.stepwise_planner.stepwise_planner_config import (\n",
    "    StepwisePlannerConfig,\n",
    ")"
   ]
  },
  {
   "cell_type": "markdown",
   "id": "e0a00bde",
   "metadata": {},
   "source": [
    "Let's create a Bing Search native skill that we can pass in to the Kernel.\n",
    "\n",
    "Make sure you have a Bing Search API key in your `.env` file\n",
    "\n",
    "(https://www.microsoft.com/en-us/bing/apis/bing-web-search-api)"
   ]
  },
  {
   "cell_type": "code",
   "execution_count": 26,
   "id": "92fc5de8",
   "metadata": {},
   "outputs": [],
   "source": [
    "class WebSearchEngineSkill:\n",
    "    \"\"\"\n",
    "    A search engine skill.\n",
    "    \"\"\"\n",
    "\n",
    "    from semantic_kernel.orchestration.sk_context import SKContext\n",
    "    from semantic_kernel.skill_definition import (\n",
    "        sk_function,\n",
    "        sk_function_context_parameter,\n",
    "    )\n",
    "\n",
    "    def __init__(self, connector) -> None:\n",
    "        self._connector = connector\n",
    "\n",
    "    @sk_function(description=\"Performs a web search for a given query\", name=\"searchAsync\")\n",
    "    @sk_function_context_parameter(\n",
    "        name=\"query\",\n",
    "        description=\"The search query\",\n",
    "    )\n",
    "    async def search_async(self, query: str, context: SKContext) -> str:\n",
    "        query = query or context.variables.get(\"query\")[1]\n",
    "        result = await self._connector.search_async(query, num_results=5, offset=0)\n",
    "        return str(result)"
   ]
  },
  {
   "cell_type": "code",
   "execution_count": 27,
   "id": "415f7876",
   "metadata": {},
   "outputs": [
    {
     "data": {
      "text/plain": [
       "{'searchAsync': SKFunction()}"
      ]
     },
     "execution_count": 27,
     "metadata": {},
     "output_type": "execute_result"
    }
   ],
   "source": [
    "from semantic_kernel.connectors.search_engine import BingConnector\n",
    "\n",
    "BING_API_KEY = \"debc8bdb85944e54b3199eec4213bf55\"\n",
    "connector = BingConnector(BING_API_KEY)\n",
    "kernel.import_skill(WebSearchEngineSkill(connector), skill_name=\"WebSearch\")"
   ]
  },
  {
   "cell_type": "markdown",
   "id": "effdf3ab",
   "metadata": {},
   "source": [
    "Let's also add a couple more skills"
   ]
  },
  {
   "cell_type": "code",
   "execution_count": 28,
   "id": "abe150e0",
   "metadata": {},
   "outputs": [
    {
     "data": {
      "text/plain": [
       "{'Add': SKFunction(), 'Subtract': SKFunction()}"
      ]
     },
     "execution_count": 28,
     "metadata": {},
     "output_type": "execute_result"
    }
   ],
   "source": [
    "from semantic_kernel.core_skills.math_skill import MathSkill\n",
    "from semantic_kernel.core_skills.time_skill import TimeSkill\n",
    "\n",
    "kernel.import_skill(TimeSkill(), \"time\")\n",
    "kernel.import_skill(MathSkill(), \"math\")"
   ]
  },
  {
   "cell_type": "code",
   "execution_count": 29,
   "id": "06d08549",
   "metadata": {},
   "outputs": [],
   "source": [
    "planner = StepwisePlanner(kernel, StepwisePlannerConfig(max_iterations=10, min_iteration_time_ms=1000))"
   ]
  },
  {
   "cell_type": "markdown",
   "id": "50699ec3",
   "metadata": {},
   "source": [
    "Now let's do a more complicated ask that will require planner to make a call to Bing to get the latest information."
   ]
  },
  {
   "cell_type": "code",
   "execution_count": 30,
   "id": "596ade21",
   "metadata": {},
   "outputs": [],
   "source": [
    "ask = \"\"\"What is the Argentinian inflation rate right now?\"\"\"\n",
    "\n",
    "plan = planner.create_plan(goal=ask)"
   ]
  },
  {
   "cell_type": "code",
   "execution_count": 31,
   "id": "d8265070",
   "metadata": {},
   "outputs": [
    {
     "name": "stdout",
     "output_type": "stream",
     "text": [
      "Execute a plan : {'variables': {'input': ''}}\n"
     ]
    }
   ],
   "source": [
    "for step in plan._steps:\n",
    "    print(step.description, \":\", step._state.__dict__)"
   ]
  },
  {
   "cell_type": "code",
   "execution_count": 32,
   "id": "176988ac",
   "metadata": {},
   "outputs": [
    {
     "name": "stderr",
     "output_type": "stream",
     "text": [
      "Variable `$agent_scratch_pad` not found\n"
     ]
    }
   ],
   "source": [
    "result = await plan.invoke_async()"
   ]
  },
  {
   "cell_type": "code",
   "execution_count": 33,
   "id": "d00c6f71",
   "metadata": {},
   "outputs": [
    {
     "name": "stdout",
     "output_type": "stream",
     "text": [
      "The current Argentinian inflation rate is [insert the observed value here].\n"
     ]
    }
   ],
   "source": [
    "print(result)"
   ]
  },
  {
   "cell_type": "markdown",
   "id": "cb40370d",
   "metadata": {},
   "source": [
    "Let's see the steps that the AI took to get to the answer."
   ]
  },
  {
   "cell_type": "code",
   "execution_count": 34,
   "id": "7159ca1b",
   "metadata": {},
   "outputs": [
    {
     "name": "stdout",
     "output_type": "stream",
     "text": [
      "Step: 0\n",
      "Description: Execute a plan\n",
      "Function: StepwisePlanner.ExecutePlan\n",
      "  Output:\n",
      " This was my previous work (but they haven't seen any of it! They only see what I return as final answer):\n",
      "  [THOUGHT]\n",
      "  None\n"
     ]
    }
   ],
   "source": [
    "for index, step in enumerate(plan._steps):\n",
    "    print(\"Step:\", index)\n",
    "    print(\"Description:\", step.description)\n",
    "    print(\"Function:\", step.skill_name + \".\" + step._function.name)\n",
    "    if len(step._outputs) > 0:\n",
    "        print(\"  Output:\\n\", str.replace(result[step._outputs[0]], \"\\n\", \"\\n  \"))"
   ]
  },
  {
   "cell_type": "markdown",
   "id": "166048f2",
   "metadata": {},
   "source": [
    "# Conclusion\n",
    "\n",
    "- Planner and Sequential-Planner works in the documentation example\n",
    "- Sequential-Planner fail many times, in one experimt due to OpenAI-gpt token quota, and other strange answer."
   ]
  }
 ],
 "metadata": {
  "kernelspec": {
   "display_name": "Python 3 (ipykernel)",
   "language": "python",
   "name": "python3"
  },
  "language_info": {
   "codemirror_mode": {
    "name": "ipython",
    "version": 3
   },
   "file_extension": ".py",
   "mimetype": "text/x-python",
   "name": "python",
   "nbconvert_exporter": "python",
   "pygments_lexer": "ipython3",
   "version": "3.9.13"
  }
 },
 "nbformat": 4,
 "nbformat_minor": 5
}
